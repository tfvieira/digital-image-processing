{
 "cells": [
  {
   "cell_type": "markdown",
   "id": "b4974555-a91d-4d43-bf6d-f527deb48eb6",
   "metadata": {},
   "source": [
    "# Image similarity"
   ]
  },
  {
   "cell_type": "markdown",
   "id": "45709099-7d9e-414e-914b-c631ca8b6a56",
   "metadata": {},
   "source": [
    "Uma métrica de qualidade (ou fidelidade) que pode ser usada para avaliar a similaridade de uma imagem $g$ em relação à uma imagem de referência $f$ é o erro médio quadrático normalizado (do inglês, _Normalized Mean Square Error_ $NMSE$), definido como\n",
    "\n",
    "$\n",
    "NMSE = \\dfrac{\\sum_{x=0}^{M-1}\\sum_{y=0}^{N-1}\\left[f(x,y) - g(x,y)\\right]^2}{\\sum_{x=0}^{M-1}\\sum_{y=0}^{N-1}[f(x,y)]^2}\n",
    "$\n",
    "\n",
    "cujos valores variam entre 0 e 1 e permitem a avaliação de imagens com dimensões diferentes e $M$ e $N$ correspondem às dimensões de $f$.\n",
    "\n",
    "Deseja-se encontrar, dentre as seguintes imagens:"
   ]
  },
  {
   "cell_type": "code",
   "execution_count": 4,
   "id": "c96a2ab3-f760-4921-a400-f02565a06111",
   "metadata": {},
   "outputs": [],
   "source": [
    "imlst = ['Back_Projection_Theory2.jpg',\n",
    "         'cameraman_original.png',\n",
    "         'jenny2.jpg',\n",
    "         'flowers.jpg',\n",
    "         'strawberries.tif']"
   ]
  },
  {
   "cell_type": "markdown",
   "id": "d5645aa2-c402-497b-b454-53665adf4319",
   "metadata": {},
   "source": [
    "aquela mais similar à seguinte imagem:"
   ]
  },
  {
   "cell_type": "code",
   "execution_count": 5,
   "id": "2283a376-d656-4235-9279-2cbfb907fa93",
   "metadata": {},
   "outputs": [],
   "source": [
    "imref = ['Back_Projection_Theory0.jpg']"
   ]
  },
  {
   "cell_type": "markdown",
   "id": "57de9d08-f883-4c19-8fa7-051cf2976948",
   "metadata": {},
   "source": [
    "Isto é, aquela imagem da lista ```imlst``` com menor valor de _NMSE_ em comparação com ```imref[0]```.\n",
    "\n",
    "(a) Crie uma função que calcula o _NMSE_ entre duas imagens $f$ e $g$ usando somente o numpy e sem _loops_ (for, etc).\n",
    "\n",
    "(b) Realize uma busca no diretório pela imagem em 'imlst' que possui o menor valor de _NMSE_ em comparação com 'imref'."
   ]
  },
  {
   "cell_type": "code",
   "execution_count": 6,
   "id": "f6977a2e-4b71-4eb9-a131-46b2652b54d3",
   "metadata": {},
   "outputs": [
    {
     "name": "stdout",
     "output_type": "stream",
     "text": [
      "Back_Projection_Theory2.jpg   None\n",
      "cameraman_original.png   None\n",
      "jenny2.jpg   None\n",
      "flowers.jpg   None\n",
      "strawberries.tif   None\n"
     ]
    }
   ],
   "source": [
    "import cv2\n",
    "import numpy as np\n",
    "\n",
    "folder = '../../../img/'\n",
    "f = cv2.imread(folder + imref[0], cv2.IMREAD_GRAYSCALE)\n",
    "\n",
    "def normalized_mean_squared_error(f,g):\n",
    "    \"\"\"\n",
    "    Compute the Normalized Mean Squared Error between a sample image 'g' and a\n",
    "    reference image 'f'\n",
    "    \"\"\"\n",
    "    # START CODE HERE (~4 lines of code)\n",
    "    \n",
    "    return None\n",
    "    # END CODE HERE\n",
    "    \n",
    "for g_name in imlst:\n",
    "\n",
    "    g = cv2.imread(folder + g_name, cv2.IMREAD_GRAYSCALE)\n",
    "    f = f.astype(np.float32)\n",
    "    g = g.astype(np.float32)\n",
    "    \n",
    "    print(g_name, ' ', normalized_mean_squared_error(f,g))"
   ]
  }
 ],
 "metadata": {
  "kernelspec": {
   "display_name": "Python 3 (ipykernel)",
   "language": "python",
   "name": "python3"
  },
  "language_info": {
   "codemirror_mode": {
    "name": "ipython",
    "version": 3
   },
   "file_extension": ".py",
   "mimetype": "text/x-python",
   "name": "python",
   "nbconvert_exporter": "python",
   "pygments_lexer": "ipython3",
   "version": "3.10.13"
  }
 },
 "nbformat": 4,
 "nbformat_minor": 5
}
