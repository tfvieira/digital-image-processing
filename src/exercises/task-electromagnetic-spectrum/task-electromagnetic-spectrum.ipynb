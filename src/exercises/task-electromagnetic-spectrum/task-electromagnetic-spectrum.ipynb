{
 "cells": [
  {
   "cell_type": "markdown",
   "id": "4118355a-3641-477c-8c44-9ce4875aceb9",
   "metadata": {},
   "source": [
    "# Task Electromagnetic Spectrum"
   ]
  },
  {
   "cell_type": "markdown",
   "id": "5809be4f-f06a-4fcc-b89b-249f20a68dd4",
   "metadata": {},
   "source": [
    "Develop the code capable of generating the image ```em-spectrum.png``` with dimensions $100\\times 1000$."
   ]
  },
  {
   "cell_type": "code",
   "execution_count": 45,
   "id": "400b9eed-0f7d-40f8-9dfa-a10eb6bc1e73",
   "metadata": {},
   "outputs": [],
   "source": [
    "import cv2\n",
    "import matplotlib.pyplot as plt\n",
    "import numpy as np"
   ]
  },
  {
   "cell_type": "code",
   "execution_count": 46,
   "id": "2d893bef",
   "metadata": {},
   "outputs": [
    {
     "data": {
      "text/plain": [
       "<matplotlib.image.AxesImage at 0x1e2d4c40eb0>"
      ]
     },
     "execution_count": 46,
     "metadata": {},
     "output_type": "execute_result"
    },
    {
     "data": {
      "image/png": "[encoded data removed]",
      "text/plain": [
       "<Figure size 640x480 with 1 Axes>"
      ]
     },
     "metadata": {},
     "output_type": "display_data"
    }
   ],
   "source": [
    "bgr = cv2.imread('../../../img/em-spectrum.png')\n",
    "rgb = cv2.cvtColor(bgr, cv2.COLOR_BGR2RGB)\n",
    "plt.imshow(rgb)"
   ]
  }
 ],
 "metadata": {
  "kernelspec": {
   "display_name": "Python 3 (ipykernel)",
   "language": "python",
   "name": "python3"
  },
  "language_info": {
   "codemirror_mode": {
    "name": "ipython",
    "version": 3
   },
   "file_extension": ".py",
   "mimetype": "text/x-python",
   "name": "python",
   "nbconvert_exporter": "python",
   "pygments_lexer": "ipython3",
   "version": "3.10.13"
  }
 },
 "nbformat": 4,
 "nbformat_minor": 5
}
