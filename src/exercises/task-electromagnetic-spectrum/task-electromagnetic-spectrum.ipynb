{
 "cells": [
  {
   "cell_type": "markdown",
   "id": "4118355a-3641-477c-8c44-9ce4875aceb9",
   "metadata": {},
   "source": [
    "# Task Electromagnetic Spectrum"
   ]
  },
  {
   "cell_type": "markdown",
   "id": "5809be4f-f06a-4fcc-b89b-249f20a68dd4",
   "metadata": {},
   "source": [
    "1. Excluir o _background_ da imagem ```avengers.png```.\n",
    "1. Inserir outra imagem para servir de background."
   ]
  },
  {
   "cell_type": "code",
   "execution_count": 1,
   "id": "400b9eed-0f7d-40f8-9dfa-a10eb6bc1e73",
   "metadata": {},
   "outputs": [],
   "source": [
    "import cv2\n",
    "import matplotlib.pyplot as plt"
   ]
  }
 ],
 "metadata": {
  "kernelspec": {
   "display_name": "Python 3 (ipykernel)",
   "language": "python",
   "name": "python3"
  },
  "language_info": {
   "codemirror_mode": {
    "name": "ipython",
    "version": 3
   },
   "file_extension": ".py",
   "mimetype": "text/x-python",
   "name": "python",
   "nbconvert_exporter": "python",
   "pygments_lexer": "ipython3",
   "version": "3.10.13"
  }
 },
 "nbformat": 4,
 "nbformat_minor": 5
}
