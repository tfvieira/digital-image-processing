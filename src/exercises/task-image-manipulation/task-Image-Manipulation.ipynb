{
 "cells": [
  {
   "cell_type": "markdown",
   "id": "0fe1bd8b-fc05-478c-8175-68a3c017f9c0",
   "metadata": {},
   "source": [
    "# Tasks - Image Manipulation"
   ]
  },
  {
   "cell_type": "markdown",
   "id": "aa4ed16c-cfd5-41ae-84f5-83f818e333f8",
   "metadata": {},
   "source": [
    "## Import Packages"
   ]
  },
  {
   "cell_type": "code",
   "execution_count": null,
   "id": "b37ae110-19a9-4fa4-b4f9-93cabbc47023",
   "metadata": {
    "nbgrader": {
     "grade": false,
     "grade_id": "cell-dcc8d0702e9d87e0",
     "locked": true,
     "schema_version": 3,
     "solution": false,
     "task": false
    },
    "tags": []
   },
   "outputs": [],
   "source": [
    "import numpy as np\n",
    "import cv2\n",
    "from matplotlib import pyplot as plt"
   ]
  },
  {
   "cell_type": "markdown",
   "id": "0385e549-df97-47ee-a276-7e3c95b69823",
   "metadata": {},
   "source": [
    "## Introduction"
   ]
  },
  {
   "cell_type": "markdown",
   "id": "3f1c7ecf-d4ff-4f71-9724-3186a8bc1002",
   "metadata": {
    "nbgrader": {
     "grade": false,
     "grade_id": "cell-46336bada0d37cb5",
     "locked": true,
     "schema_version": 3,
     "solution": false,
     "task": false
    },
    "tags": []
   },
   "source": [
    "In Python, an image can be represented as a matrix or a NumPy array. Each pixel corresponds to an element in the matrix. You can manipulate the image by accessing and modifying the matrix elements using array manipulation libraries like NumPy. This allows for efficient operations such as cropping, flipping, resizing, filtering, and more. Treating an image as a matrix provides flexibility and access to a wide range of tools for image processing tasks in Python."
   ]
  },
  {
   "cell_type": "markdown",
   "id": "24b9258e-aa02-43f1-8ad5-ba2a0beaaa03",
   "metadata": {},
   "source": [
    "For more details, refer to:\n",
    "\n",
    "[OpenCV Getting and Setting Pixels](https://pyimagesearch.com/2021/01/20/opencv-getting-and-setting-pixels/)"
   ]
  },
  {
   "cell_type": "markdown",
   "id": "454c374c-495c-4de6-a0a1-aa7663c54764",
   "metadata": {
    "nbgrader": {
     "grade": false,
     "grade_id": "cell-9e2f685ddcbcfa0c",
     "locked": true,
     "schema_version": 3,
     "solution": false,
     "task": false
    },
    "tags": []
   },
   "source": [
    "## Crop and flip an image using Numpy array indexing."
   ]
  },
  {
   "cell_type": "code",
   "execution_count": 1,
   "id": "a9664606-b3a8-4645-9a21-63ee7dde5a03",
   "metadata": {
    "nbgrader": {
     "grade": false,
     "grade_id": "crop",
     "locked": false,
     "schema_version": 3,
     "solution": true,
     "task": false
    },
    "tags": []
   },
   "outputs": [],
   "source": [
    "def crop(img, x1, y1, x2, y2):\n",
    "    '''\n",
    "    Crop an image using NumPy array indexing.\n",
    "    Parameters:\n",
    "    image (numpy.ndarray): The input image as a NumPy array.\n",
    "    x1 (int): The x-coordinate of the top-left corner of the cropping area.\n",
    "    y1 (int): The y-coordinate of the top-left corner of the cropping area.\n",
    "    x2 (int): The x-coordinate of the bottom-right corner of the cropping area.\n",
    "    y2 (int): The y-coordinate of the bottom-right corner of the cropping area.\n",
    "\n",
    "    Returns:\n",
    "    numpy.ndarray: The cropped image as a NumPy array.\n",
    "    '''\n",
    "    ### BEGIN SOLUTION\n",
    "    cropped_image = None\n",
    "    ### END SOLUTION\n",
    "    return cropped_image"
   ]
  },
  {
   "cell_type": "code",
   "execution_count": null,
   "id": "b3ef332c-65e8-4465-ad6d-6001898301d8",
   "metadata": {
    "nbgrader": {
     "grade": false,
     "grade_id": "cell-f86bed0e7387efa4",
     "locked": false,
     "schema_version": 3,
     "solution": true,
     "task": false
    },
    "tags": []
   },
   "outputs": [],
   "source": [
    "def flip(img, axis):\n",
    "    '''\n",
    "    Flip an image using NumPy array indexing.\n",
    "\n",
    "    Parameters:\n",
    "    image (numpy.ndarray): The input image as a NumPy array.\n",
    "    axis (int): The axis along which to flip the image.\n",
    "                0: Flip vertically (upside down).\n",
    "                1: Flip horizontally (mirror image).\n",
    "\n",
    "    Returns:\n",
    "    numpy.ndarray: The flipped image as a NumPy array.\n",
    "    '''\n",
    "     ### BEGIN SOLUTION\n",
    "    flipped_image = None\n",
    "    ### END SOLUTION\n",
    "    return flipped_image"
   ]
  },
  {
   "cell_type": "code",
   "execution_count": null,
   "id": "21c9a04e-8126-470e-a3e5-2dcb3b7f3f64",
   "metadata": {
    "nbgrader": {
     "grade": false,
     "grade_id": "cell-6387e5578eafe101",
     "locked": false,
     "schema_version": 3,
     "solution": true,
     "task": false
    },
    "tags": []
   },
   "outputs": [],
   "source": [
    "image = None\n",
    "#you can use this cell to test your functions"
   ]
  },
  {
   "cell_type": "markdown",
   "id": "644353e5-5560-49c4-a870-93f78a027c6f",
   "metadata": {
    "nbgrader": {
     "grade": false,
     "grade_id": "cell-e6d3239e2d28f3dc",
     "locked": true,
     "schema_version": 3,
     "solution": false,
     "task": false
    },
    "tags": []
   },
   "source": [
    "# Implement image translation using Numpy and OpenCV."
   ]
  },
  {
   "cell_type": "code",
   "execution_count": null,
   "id": "0ebdc6d9-bf3f-4b53-81de-23a7b1f8cb0f",
   "metadata": {
    "nbgrader": {
     "grade": false,
     "grade_id": "cell-2be93fbba03eecd7",
     "locked": false,
     "schema_version": 3,
     "solution": true,
     "task": false
    },
    "tags": []
   },
   "outputs": [],
   "source": [
    "def translate_image(img, dx, dy):\n",
    "    '''\n",
    "    Parameters:\n",
    "    image (numpy.ndarray): The input image as a NumPy array.\n",
    "    dx (int): The translation amount in the x-direction. Positive values translate to the right.\n",
    "    dy (int): The translation amount in the y-direction. Positive values translate down\n",
    "\n",
    "    Returns:\n",
    "    numpy.ndarray: The translated image as a NumPy array.\n",
    "    '''\n",
    "\n",
    "    ### BEGIN SOLUTION\n",
    "    translation_matrix = None\n",
    "    translated_image = None\n",
    "    ### END SOLUTION\n",
    "\n",
    "    return translated_image"
   ]
  },
  {
   "cell_type": "code",
   "execution_count": null,
   "id": "f49c79b0-e6f4-4d13-ab05-37d10ea27807",
   "metadata": {
    "tags": []
   },
   "outputs": [],
   "source": [
    "# image = None"
   ]
  },
  {
   "cell_type": "markdown",
   "id": "e870d01b-f98f-473c-bb07-facd3cc9d031",
   "metadata": {
    "nbgrader": {
     "grade": false,
     "grade_id": "cell-2c44bc8b04365cc6",
     "locked": true,
     "schema_version": 3,
     "solution": false,
     "task": false
    },
    "tags": []
   },
   "source": [
    "# Implement image rotation around its center using NumPy and OpenCV."
   ]
  },
  {
   "cell_type": "code",
   "execution_count": null,
   "id": "865106f8-b925-408f-8305-4bc6be7fa599",
   "metadata": {
    "nbgrader": {
     "grade": false,
     "grade_id": "cell-96b6bbb898287b7e",
     "locked": false,
     "schema_version": 3,
     "solution": true,
     "task": false
    },
    "tags": []
   },
   "outputs": [],
   "source": [
    "def rotate_image(img, angle):\n",
    "    \"\"\"\n",
    "    Rotate an image using NumPy and OpenCV.\n",
    "\n",
    "    Parameters:\n",
    "    image (numpy.ndarray): The input image as a NumPy array.\n",
    "    angle (float): The rotation angle in degrees.\n",
    "\n",
    "    Returns:\n",
    "    numpy.ndarray: The rotated image as a NumPy array.\n",
    "    \"\"\"\n",
    "    \n",
    "    ### BEGIN SOLUTION\n",
    "\n",
    "    ### END SOLUTION\n",
    "    \n",
    "    return rotated_image"
   ]
  },
  {
   "cell_type": "code",
   "execution_count": null,
   "id": "4ff238ca-e162-4dee-9765-d03095c04b9d",
   "metadata": {
    "nbgrader": {
     "grade": false,
     "grade_id": "cell-4c217edb125bd6da",
     "locked": false,
     "schema_version": 3,
     "solution": true,
     "task": false
    },
    "tags": []
   },
   "outputs": [],
   "source": [
    "#image = None"
   ]
  },
  {
   "cell_type": "markdown",
   "id": "107806f5-893d-460f-8c14-a929a40f8bd5",
   "metadata": {
    "nbgrader": {
     "grade": false,
     "grade_id": "cell-d43da77d199b0460",
     "locked": true,
     "schema_version": 3,
     "solution": false,
     "task": false
    },
    "tags": []
   },
   "source": [
    "# Implement image resizing using OpenCV."
   ]
  },
  {
   "cell_type": "code",
   "execution_count": null,
   "id": "dbd6b773-a4fb-4cc3-9636-93f14760c2a3",
   "metadata": {
    "nbgrader": {
     "grade": false,
     "grade_id": "cell-fd450d73017f8396",
     "locked": false,
     "schema_version": 3,
     "solution": true,
     "task": false
    },
    "tags": []
   },
   "outputs": [],
   "source": [
    "def resize_image(img, scale):\n",
    "    \"\"\"\n",
    "    Resize an image using OpenCV.\n",
    "\n",
    "    Parameters:\n",
    "    image (numpy.ndarray): The input image as a NumPy array.\n",
    "    scale (float): The scaling factor to resize the image.\n",
    "\n",
    "    Returns:\n",
    "    numpy.ndarray: The resized image as a NumPy array.\n",
    "    \"\"\"\n",
    "    #Make sure your scale is greather than zero.\n",
    "    ### BEGIN SOLUTION\n",
    "\n",
    "    ### END SOLUTION\n",
    "    return resized_image"
   ]
  },
  {
   "cell_type": "code",
   "execution_count": null,
   "id": "ac51f4b6-5380-4b49-b337-a7ca6b6d8cd9",
   "metadata": {
    "nbgrader": {
     "grade": false,
     "grade_id": "cell-7bd565b81055d50e",
     "locked": false,
     "schema_version": 3,
     "solution": true,
     "task": false
    },
    "tags": []
   },
   "outputs": [],
   "source": [
    "#image = None"
   ]
  },
  {
   "cell_type": "markdown",
   "id": "4709be40-d248-49d1-8f42-1a0261549104",
   "metadata": {
    "nbgrader": {
     "grade": false,
     "grade_id": "cell-cd7258646b228122",
     "locked": true,
     "schema_version": 3,
     "solution": false,
     "task": false
    },
    "tags": []
   },
   "source": [
    "# Implement bitwise operations: AND, OR, XOR."
   ]
  },
  {
   "cell_type": "code",
   "execution_count": null,
   "id": "eff22b2c-def1-457b-a499-f835abd9d6cb",
   "metadata": {
    "nbgrader": {
     "grade": false,
     "grade_id": "cell-39d176bf82f1f8e7",
     "locked": false,
     "schema_version": 3,
     "solution": true,
     "task": false
    },
    "tags": []
   },
   "outputs": [],
   "source": [
    "def bitwise_and(image1, image2):\n",
    "    \"\"\"\n",
    "    Perform a bitwise AND operation on two images using NumPy.\n",
    "\n",
    "    Parameters:\n",
    "    image1 (numpy.ndarray): The first input image as a NumPy array.\n",
    "    image2 (numpy.ndarray): The second input image as a NumPy array.\n",
    "\n",
    "    Returns:\n",
    "    numpy.ndarray: The result of the bitwise AND operation as a NumPy array.\n",
    "    \"\"\"\n",
    "    ### BEGIN SOLUTION\n",
    "\n",
    "    ### END SOLUTION\n",
    "    \n",
    "    return result"
   ]
  },
  {
   "cell_type": "code",
   "execution_count": null,
   "id": "21eabccb-6fce-46b2-bfe3-da531821807e",
   "metadata": {
    "nbgrader": {
     "grade": false,
     "grade_id": "cell-b19af5df955d2370",
     "locked": false,
     "schema_version": 3,
     "solution": true,
     "task": false
    },
    "tags": []
   },
   "outputs": [],
   "source": [
    "def bitwise_or(image1, image2):\n",
    "    \"\"\"\n",
    "    Perform a bitwise OR operation on two images using NumPy.\n",
    "\n",
    "    Parameters:\n",
    "    image1 (numpy.ndarray): The first input image as a NumPy array.\n",
    "    image2 (numpy.ndarray): The second input image as a NumPy array.\n",
    "\n",
    "    Returns:\n",
    "    numpy.ndarray: The result of the bitwise OR operation as a NumPy array.\n",
    "    \"\"\"\n",
    "    ### BEGIN SOLUTION\n",
    "\n",
    "    ### END SOLUTION\n",
    "    \n",
    "    return result"
   ]
  },
  {
   "cell_type": "code",
   "execution_count": null,
   "id": "7ab09bcb-0e83-4999-8cb0-2bd1165a9fca",
   "metadata": {
    "nbgrader": {
     "grade": false,
     "grade_id": "cell-eca20190e4a57d2a",
     "locked": false,
     "schema_version": 3,
     "solution": true,
     "task": false
    },
    "tags": []
   },
   "outputs": [],
   "source": [
    "def bitwise_xor(image1, image2):\n",
    "    \"\"\"\n",
    "    Perform a bitwise XOR (exclusive OR) operation on two images using NumPy.\n",
    "\n",
    "    Parameters:\n",
    "    image1 (numpy.ndarray): The first input image as a NumPy array.\n",
    "    image2 (numpy.ndarray): The second input image as a NumPy array.\n",
    "\n",
    "    Returns:\n",
    "    numpy.ndarray: The result of the bitwise XOR operation as a NumPy array.\n",
    "    \"\"\"\n",
    "    ### BEGIN SOLUTION\n",
    "\n",
    "    ### END SOLUTION\n",
    "    \n",
    "    return result"
   ]
  },
  {
   "cell_type": "code",
   "execution_count": null,
   "id": "c8bc029a-405b-4e13-b215-a01b85d51bb8",
   "metadata": {
    "nbgrader": {
     "grade": false,
     "grade_id": "cell-c96921af8cb033e2",
     "locked": false,
     "schema_version": 3,
     "solution": true,
     "task": false
    },
    "tags": []
   },
   "outputs": [],
   "source": [
    "#image1 = None\n",
    "#image2 = None"
   ]
  },
  {
   "cell_type": "markdown",
   "id": "e2a00afb-c11a-4a65-9d67-753579a385c3",
   "metadata": {
    "nbgrader": {
     "grade": false,
     "grade_id": "cell-c1a8a685fa52c61e",
     "locked": true,
     "schema_version": 3,
     "solution": false,
     "task": false
    },
    "tags": []
   },
   "source": [
    "# Implement the \"mask\" operation, where a third image 'h' contains only a Region of Interest (ROI -- defined by the second image mask 'g') obtained from the input image 'f'. Note that this Region can be of any shape.\n",
    "\n",
    "Masking is a technique used in Image Processing to isolate and extract the Region of Interest (ROI), which refers to the specific part of an image that is of interest or relevance for analysis.\n",
    "Bitwise operations are commonly employed for masking as they enable us to selectively retain or discard specific portions of the image. By using bitwise operations, we can efficiently exclude the areas of the image that are not required, focusing only on the desired region for further processing or analysis.\n",
    "\n",
    "Masking involves three steps:\n",
    "* Creating a black mask canvas with the same dimensions as the original image.\n",
    "* Modifying the mask by drawing a shape or figure of interest in white color.\n",
    "* Applying the bitwise OR operation to combine the modified mask with the original image.\n",
    "\n",
    "These steps enable us to selectively include or exclude specific regions of the image based on the defined mask."
   ]
  },
  {
   "cell_type": "code",
   "execution_count": null,
   "id": "bcfdaf90-0c8b-4627-a3d3-13ab32a67396",
   "metadata": {
    "nbgrader": {
     "grade": false,
     "grade_id": "cell-8ea98d1ea50f1c5d",
     "locked": false,
     "schema_version": 3,
     "solution": true,
     "task": false
    },
    "tags": []
   },
   "outputs": [],
   "source": [
    "# create a mask of that has the same dimensions of the image\n",
    "# where each pixel is valued at 0\n",
    "mask = None\n",
    "\n",
    "# create a circle on the mask\n",
    "# where the pixels are valued at 255\n",
    "x, y = None, None\n",
    "radius = None\n",
    "cv2.circle(mask, (x, y), radius, 255, -1)\n",
    "\n",
    "# perform a bitwise_and with the image and the mask\n",
    "masked = None\n",
    "\n",
    "\n",
    "### BEGIN SOLUTION\n",
    "\n",
    "### END SOLUTION"
   ]
  },
  {
   "cell_type": "code",
   "execution_count": null,
   "id": "3dbc1211-25f1-40af-b0ec-c5de01b9f06a",
   "metadata": {
    "tags": []
   },
   "outputs": [],
   "source": [
    "#image = None"
   ]
  }
 ],
 "metadata": {
  "kernelspec": {
   "display_name": "Python 3 (ipykernel)",
   "language": "python",
   "name": "python3"
  },
  "language_info": {
   "codemirror_mode": {
    "name": "ipython",
    "version": 3
   },
   "file_extension": ".py",
   "mimetype": "text/x-python",
   "name": "python",
   "nbconvert_exporter": "python",
   "pygments_lexer": "ipython3",
   "version": "3.9.18"
  }
 },
 "nbformat": 4,
 "nbformat_minor": 5
}
