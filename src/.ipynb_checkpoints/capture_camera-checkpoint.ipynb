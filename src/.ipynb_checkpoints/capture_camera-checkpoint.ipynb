{
 "cells": [
  {
   "cell_type": "code",
   "execution_count": 1,
   "metadata": {},
   "outputs": [],
   "source": [
    "import cv2"
   ]
  },
  {
   "cell_type": "code",
   "execution_count": 2,
   "metadata": {},
   "outputs": [],
   "source": [
    "index = 0"
   ]
  },
  {
   "cell_type": "code",
   "execution_count": 3,
   "metadata": {},
   "outputs": [],
   "source": [
    "cap = cv2.VideoCapture(index)"
   ]
  },
  {
   "cell_type": "code",
   "execution_count": 4,
   "metadata": {},
   "outputs": [
    {
     "ename": "KeyboardInterrupt",
     "evalue": "",
     "output_type": "error",
     "traceback": [
      "\u001b[1;31m---------------------------------------------------------------------------\u001b[0m",
      "\u001b[1;31mKeyboardInterrupt\u001b[0m                         Traceback (most recent call last)",
      "\u001b[1;32mc:\\Users\\tfv01\\Dropbox\\Sync\\professional\\courses\\digital-image-processing\\digital-image-processing\\src\\capture_camera.ipynb Cell 4\u001b[0m in \u001b[0;36m<cell line: 1>\u001b[1;34m()\u001b[0m\n\u001b[0;32m      <a href='vscode-notebook-cell:/c%3A/Users/tfv01/Dropbox/Sync/professional/courses/digital-image-processing/digital-image-processing/src/capture_camera.ipynb#W3sZmlsZQ%3D%3D?line=0'>1</a>\u001b[0m \u001b[39mtry\u001b[39;00m:\n\u001b[0;32m      <a href='vscode-notebook-cell:/c%3A/Users/tfv01/Dropbox/Sync/professional/courses/digital-image-processing/digital-image-processing/src/capture_camera.ipynb#W3sZmlsZQ%3D%3D?line=1'>2</a>\u001b[0m \n\u001b[0;32m      <a href='vscode-notebook-cell:/c%3A/Users/tfv01/Dropbox/Sync/professional/courses/digital-image-processing/digital-image-processing/src/capture_camera.ipynb#W3sZmlsZQ%3D%3D?line=2'>3</a>\u001b[0m     \u001b[39m# cap.set(cv2.CAP_PROP_FRAME_WIDTH,  3840)\u001b[39;00m\n\u001b[0;32m      <a href='vscode-notebook-cell:/c%3A/Users/tfv01/Dropbox/Sync/professional/courses/digital-image-processing/digital-image-processing/src/capture_camera.ipynb#W3sZmlsZQ%3D%3D?line=3'>4</a>\u001b[0m     \u001b[39m# cap.set(cv2.CAP_PROP_FRAME_HEIGHT, 2160)\u001b[39;00m\n\u001b[0;32m      <a href='vscode-notebook-cell:/c%3A/Users/tfv01/Dropbox/Sync/professional/courses/digital-image-processing/digital-image-processing/src/capture_camera.ipynb#W3sZmlsZQ%3D%3D?line=5'>6</a>\u001b[0m     \u001b[39mwhile\u001b[39;00m cap\u001b[39m.\u001b[39misOpened():\n\u001b[1;32m----> <a href='vscode-notebook-cell:/c%3A/Users/tfv01/Dropbox/Sync/professional/courses/digital-image-processing/digital-image-processing/src/capture_camera.ipynb#W3sZmlsZQ%3D%3D?line=7'>8</a>\u001b[0m         ret, frame \u001b[39m=\u001b[39m cap\u001b[39m.\u001b[39;49mread()\n\u001b[0;32m      <a href='vscode-notebook-cell:/c%3A/Users/tfv01/Dropbox/Sync/professional/courses/digital-image-processing/digital-image-processing/src/capture_camera.ipynb#W3sZmlsZQ%3D%3D?line=8'>9</a>\u001b[0m         \u001b[39mif\u001b[39;00m ret:\n\u001b[0;32m     <a href='vscode-notebook-cell:/c%3A/Users/tfv01/Dropbox/Sync/professional/courses/digital-image-processing/digital-image-processing/src/capture_camera.ipynb#W3sZmlsZQ%3D%3D?line=9'>10</a>\u001b[0m             cv2\u001b[39m.\u001b[39mimshow(\u001b[39m'\u001b[39m\u001b[39mframe\u001b[39m\u001b[39m'\u001b[39m, frame)\n",
      "\u001b[1;31mKeyboardInterrupt\u001b[0m: "
     ]
    },
    {
     "ename": "",
     "evalue": "",
     "output_type": "error",
     "traceback": [
      "\u001b[1;31mThe Kernel crashed while executing code in the the current cell or a previous cell. Please review the code in the cell(s) to identify a possible cause of the failure. Click <a href='https://aka.ms/vscodeJupyterKernelCrash'>here</a> for more info. View Jupyter <a href='command:jupyter.viewOutput'>log</a> for further details."
     ]
    }
   ],
   "source": [
    "try:\n",
    "\n",
    "    # cap.set(cv2.CAP_PROP_FRAME_WIDTH,  3840)\n",
    "    # cap.set(cv2.CAP_PROP_FRAME_HEIGHT, 2160)\n",
    "\n",
    "    while cap.isOpened():\n",
    "\n",
    "        ret, frame = cap.read()\n",
    "        if ret:\n",
    "            cv2.imshow('frame', frame)\n",
    "            if cv2.waitKey(1) & 0xFF == ord('q'):\n",
    "                break\n",
    "\n",
    "except cv2.error as error:\n",
    "    print('[Error]: {}'.format(error))\n",
    "\n",
    "cap.release()\n",
    "cv2.destroyAllWindows()"
   ]
  },
  {
   "cell_type": "code",
   "execution_count": null,
   "metadata": {},
   "outputs": [],
   "source": []
  }
 ],
 "metadata": {
  "kernelspec": {
   "display_name": "Python 3.8.13 ('dl')",
   "language": "python",
   "name": "python3"
  },
  "language_info": {
   "codemirror_mode": {
    "name": "ipython",
    "version": 3
   },
   "file_extension": ".py",
   "mimetype": "text/x-python",
   "name": "python",
   "nbconvert_exporter": "python",
   "pygments_lexer": "ipython3",
   "version": "3.8.13"
  },
  "orig_nbformat": 4,
  "vscode": {
   "interpreter": {
    "hash": "5ee0d0c5264b4bdd8cde52d5d29269f8812b0fb9d8917369caefba6e9a8e6d06"
   }
  }
 },
 "nbformat": 4,
 "nbformat_minor": 2
}
