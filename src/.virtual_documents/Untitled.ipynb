import os
import cv2
import numpy as np
# import matplotlib.pyplot as plt
from utils import *

path = "../img/"





img = cv2.imread(os.path.join(path,'lena.png'), cv2.IMREAD_GRAYSCALE)

cv2.namedWindow("img", cv2.WINDOW_NORMAL | cv2.WINDOW_KEEPRATIO)
cv2.namedWindow("img2", cv2.WINDOW_NORMAL | cv2.WINDOW_KEEPRATIO)

while cv2.waitKey(1) != ord('q'):
    cv2.imshow("img", img)
    cv2.imshow("img2", 255 - img)
cv2.destroyAllWindows()

im_info(img)





img = cv2.imread(os.path.join(path,'spectrum.tif'), cv2.IMREAD_GRAYSCALE)
img2 = np.ones(img.shape, np.float64)
c = 1

cv2.namedWindow("img", cv2.WINDOW_NORMAL | cv2.WINDOW_KEEPRATIO)
cv2.namedWindow("img2", cv2.WINDOW_NORMAL | cv2.WINDOW_KEEPRATIO)
cv2.namedWindow("img3", cv2.WINDOW_NORMAL | cv2.WINDOW_KEEPRATIO)

tic = cv2.getTickCount()
for x in range(img.shape[0]):
    for y in range(img.shape[1]):
        intensity = img[x][y]
        intensity_new = c * np.log(1 + intensity)
        img2[x][y] = intensity_new
cv2.normalize(img2, img2, 1, 0, cv2.NORM_MINMAX)
toc = cv2.getTickCount()
et = (toc - tic)/cv2.getTickFrequency()
print(f"Elapsed time using for loop: {1000*et:.2f}ms")

tic = cv2.getTickCount()
img3 = c * np.log(1 + img.astype('float'))
cv2.normalize(img3, img3, 1, 0,  cv2.NORM_MINMAX)
toc = cv2.getTickCount()
et = (toc - tic)/cv2.getTickFrequency()
print(f"Elapsed time using for Numpy Array: {1000*et:.2f}ms")

while cv2.waitKey(1) != ord('q'):
    cv2.imshow("img", img)
    cv2.imshow("img2", img2)
    cv2.imshow("img3", img3)
cv2.destroyAllWindows()








img = cv2.imread(os.path.join(path, 'lena.png'), cv2.IMREAD_GRAYSCALE)

cv2.namedWindow("Original", cv2.WINDOW_KEEPRATIO)
cv2.namedWindow("New",      cv2.WINDOW_KEEPRATIO)

ksizex = 0
ksizey = 0

cv2.createTrackbar("ksizex", "New", ksizex, 63, do_nothing)
cv2.createTrackbar("ksizey", "New", ksizey, 63, do_nothing)

img2 = np.zeros(img.shape, dtype=np.float64)

while 0xFF & cv2.waitKey(1) != ord('q'):

    ksizey = cv2.getTrackbarPos("ksizey", "New")
    ksizex = cv2.getTrackbarPos("ksizex", "New")

    if ksizex < 1:
        ksizex = 1
    if ksizey < 1:
        ksizey = 1

    img2 = cv2.blur(img, (ksizex, ksizey), img2, (-1, -1), cv2.BORDER_DEFAULT)

    #cv2.imshow("Original", img)
    cv2.imshow("New", img2)

cv2.destroyAllWindows()





img = cv2.imread(os.path.join(path, "lena.png"), cv2.IMREAD_GRAYSCALE)

noise = np.zeros(img.shape, np.uint8)
img2 = np.zeros(img.shape, np.uint8)
img3 = np.zeros(img.shape, np.uint8)
salt = np.zeros(img.shape, np.uint8)
pepper = np.zeros(img.shape, np.uint8)

ksize = 0
amount = 5
cv2.namedWindow("img3", cv2.WINDOW_KEEPRATIO);
cv2.namedWindow("img2", cv2.WINDOW_KEEPRATIO);
cv2.createTrackbar("ksize", "img3", ksize, 15, do_nothing)
cv2.createTrackbar("amount", "img2", amount, 120, do_nothing)

cv2.randu(noise, 0, 255)

while 0xFF & cv2.waitKey(1) != ord('q'):
    amount = cv2.getTrackbarPos("amount", "img2")
    ksize = cv2.getTrackbarPos("ksize", "img3")

    img2 = np.copy(img)

    salt = noise > 255 - amount
    pepper = noise < amount

    img2[salt == True] = 255
    img2[pepper == True] = 0

    img3 = cv2.medianBlur(img2, (ksize + 1) * 2 - 1)

    #cv2.imshow("img", img)
    cv2.imshow("img2", img2)
    cv2.imshow("img3", img3)

cv2.destroyAllWindows()





img = cv2.imread(os.path.join(path, 'lena.png'), cv2.IMREAD_GRAYSCALE)
img2 = img.astype('float')

cv2.namedWindow("Original", cv2.WINDOW_KEEPRATIO)
cv2.namedWindow("New", cv2.WINDOW_KEEPRATIO)
cv2.namedWindow("Gx", cv2.WINDOW_KEEPRATIO)
cv2.namedWindow("Gy", cv2.WINDOW_KEEPRATIO)

kx = [[-1,  0,  1],
      [-2,  0,  2],
      [-1,  0,  1]]
kx = np.array(kx)

ky = [[-1, -2, -1],
      [ 0,  0,  0],
      [ 1,  2,  1]]
ky = np.array(ky)

gx = cv2.filter2D(img2, -1, kx, cv2.BORDER_DEFAULT)
gy = cv2.filter2D(img2, -1, ky, cv2.BORDER_DEFAULT)
g  = np.abs(gx) + np.abs(gy)

gx = normalize_img(gx)
gy = normalize_img(gy)
g  = normalize_img(g)

cv2.namedWindow("Original", cv2.WINDOW_NORMAL | cv2.WINDOW_KEEPRATIO)
cv2.namedWindow("New", cv2.WINDOW_NORMAL | cv2.WINDOW_KEEPRATIO)
cv2.namedWindow("Gx", cv2.WINDOW_NORMAL | cv2.WINDOW_KEEPRATIO)
cv2.namedWindow("Gy", cv2.WINDOW_NORMAL | cv2.WINDOW_KEEPRATIO)

while 0xFF & cv2.waitKey(1) != ord('q'):
    cv2.imshow("Original", img)
    cv2.imshow("New", normalize_img(g))
    cv2.imshow("Gx", normalize_img(gx))
    cv2.imshow("Gy", normalize_img(gy))

cv2.destroyAllWindows()






