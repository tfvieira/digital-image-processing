import cv2





cap.isOpened()


cap = cv2.VideoCapture(0)


# cv2.namedWindow('frame', cv2.WINDOW_KEEPRATIO)

try:

    while cap.isOpened():

        ret, frame = cap.read()
        if ret:

            cv2.imshow('frame', frame)
            
            if cv2.waitKey(1) & 0xFF == ord('q'):
                break

except cv2.error as error:
    print('[Error]: {}'.format(error))

cap.release()
cv2.destroyAllWindows()
