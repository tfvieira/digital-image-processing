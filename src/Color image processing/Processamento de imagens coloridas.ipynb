{
 "cells": [
  {
   "cell_type": "markdown",
   "id": "22dbf717-6ad1-4f57-908d-376c578a74b4",
   "metadata": {},
   "source": [
    "- Imagens RGB.\n",
    "- Diferença entre RGB (OpenCV) e BGR (Matplotlib, PIL).\n",
    "- Apresentação dos canais separados. "
   ]
  },
  {
   "cell_type": "code",
   "execution_count": null,
   "id": "a85ba740-e2a0-4f3e-b100-5435962df518",
   "metadata": {},
   "outputs": [],
   "source": []
  }
 ],
 "metadata": {
  "kernelspec": {
   "display_name": "Python 3 (ipykernel)",
   "language": "python",
   "name": "python3"
  },
  "language_info": {
   "codemirror_mode": {
    "name": "ipython",
    "version": 3
   },
   "file_extension": ".py",
   "mimetype": "text/x-python",
   "name": "python",
   "nbconvert_exporter": "python",
   "pygments_lexer": "ipython3",
   "version": "3.9.18"
  }
 },
 "nbformat": 4,
 "nbformat_minor": 5
}
